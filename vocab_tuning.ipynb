{
 "cells": [
  {
   "cell_type": "code",
   "execution_count": 8,
   "id": "af211d40-8973-4989-9b04-df36ac0e3156",
   "metadata": {},
   "outputs": [],
   "source": [
    "with open('./tokenizer/model/wordpiece/version_2.1/vocab.txt', 'r', encoding='utf-8') as f:\n",
    "    subwords = f.read().split('\\n')"
   ]
  },
  {
   "cell_type": "code",
   "execution_count": 9,
   "id": "053cda9e-86cb-43ee-b711-600aa266c013",
   "metadata": {},
   "outputs": [
    {
     "name": "stdout",
     "output_type": "stream",
     "text": [
      "['<s>', '<pad>', '</s>', '<unk>', '<mask>', '[UNK0]', '[UNK1]', '[UNK2]', '[UNK3]', '[UNK4]']\n"
     ]
    }
   ],
   "source": [
    "print(subwords[:10])"
   ]
  },
  {
   "cell_type": "code",
   "execution_count": 14,
   "id": "39cf8ea7-2370-4de6-bb83-88cf181bce64",
   "metadata": {},
   "outputs": [
    {
     "ename": "TypeError",
     "evalue": "unhashable type: 'list'",
     "output_type": "error",
     "traceback": [
      "\u001b[0;31m---------------------------------------------------------------------------\u001b[0m",
      "\u001b[0;31mTypeError\u001b[0m                                 Traceback (most recent call last)",
      "\u001b[0;32m/tmp/ipykernel_13573/2000340257.py\u001b[0m in \u001b[0;36m<module>\u001b[0;34m\u001b[0m\n\u001b[1;32m      8\u001b[0m             \u001b[0mnew_subword\u001b[0m \u001b[0;34m=\u001b[0m \u001b[0;34m'##'\u001b[0m\u001b[0;34m+\u001b[0m\u001b[0msubword\u001b[0m\u001b[0;34m[\u001b[0m\u001b[0;36m1\u001b[0m\u001b[0;34m:\u001b[0m\u001b[0;34m]\u001b[0m\u001b[0;34m\u001b[0m\u001b[0;34m\u001b[0m\u001b[0m\n\u001b[1;32m      9\u001b[0m             \u001b[0;31m#new_subwords.append(new_subword)\u001b[0m\u001b[0;34m\u001b[0m\u001b[0;34m\u001b[0m\u001b[0;34m\u001b[0m\u001b[0m\n\u001b[0;32m---> 10\u001b[0;31m             \u001b[0;32mif\u001b[0m \u001b[0mnew_subwords\u001b[0m \u001b[0;32min\u001b[0m \u001b[0mcheck_double\u001b[0m\u001b[0;34m.\u001b[0m\u001b[0mkeys\u001b[0m\u001b[0;34m(\u001b[0m\u001b[0;34m)\u001b[0m\u001b[0;34m:\u001b[0m\u001b[0;34m\u001b[0m\u001b[0;34m\u001b[0m\u001b[0m\n\u001b[0m\u001b[1;32m     11\u001b[0m                 \u001b[0mprint\u001b[0m\u001b[0;34m(\u001b[0m\u001b[0;34m'이미 있는 단어 : '\u001b[0m\u001b[0;34m,\u001b[0m\u001b[0mnew_subwords\u001b[0m\u001b[0;34m)\u001b[0m\u001b[0;34m\u001b[0m\u001b[0;34m\u001b[0m\u001b[0m\n\u001b[1;32m     12\u001b[0m             \u001b[0;32melse\u001b[0m\u001b[0;34m:\u001b[0m\u001b[0;34m\u001b[0m\u001b[0;34m\u001b[0m\u001b[0m\n",
      "\u001b[0;31mTypeError\u001b[0m: unhashable type: 'list'"
     ]
    }
   ],
   "source": [
    "new_subwords = []\n",
    "check_double = {}\n",
    "for subword in subwords:\n",
    "    if '♬' in subword:\n",
    "        if subword == '♬':\n",
    "            pass\n",
    "        elif subword[0] == '♬' and ('♬' not in subword[1:]):  #두 글자 이상의 ♬가 들어가 서브워드에 대해서\n",
    "            new_subword = '##'+subword[1:]\n",
    "            #new_subwords.append(new_subword)\n",
    "            if new_subword in check_double:\n",
    "                print('이미 있는 단어 : ',new_subwords)\n",
    "            else:\n",
    "                new_subwords.append(new_subword) #단어 넣고\n",
    "                check_double[new_subword] = 1#이제는 있는 단어라고 표시\n",
    "        else:\n",
    "            pass\n",
    "    else:\n",
    "        if subword in check_double:\n",
    "            print('이미 있는 단어 : ',subword)\n",
    "        else:\n",
    "            new_subwords.append(subword)#단어 넣고\n",
    "            check_double[subword] = 1 #이제는 있는 단어라고 표시"
   ]
  },
  {
   "cell_type": "code",
   "execution_count": 7,
   "id": "22a79fff-ffa5-4651-bc1f-ebafda706330",
   "metadata": {},
   "outputs": [
    {
     "name": "stdout",
     "output_type": "stream",
     "text": [
      "vocab tuning complete! :)\n",
      "40509\n"
     ]
    }
   ],
   "source": [
    "with open('./tokenizer/model/wordpiece/version_2.1.1/vocab.txt', 'w', encoding='utf-8') as f:\n",
    "    for w in new_subwords:\n",
    "        f.write(w+'\\n')\n",
    "print(\"vocab tuning complete! :)\")\n",
    "print(len(new_subwords))"
   ]
  },
  {
   "cell_type": "code",
   "execution_count": null,
   "id": "f6f2b7a9-a02e-4c5f-a824-8773e87fa6c6",
   "metadata": {},
   "outputs": [],
   "source": []
  }
 ],
 "metadata": {
  "kernelspec": {
   "display_name": "Python 3 (ipykernel)",
   "language": "python",
   "name": "python3"
  },
  "language_info": {
   "codemirror_mode": {
    "name": "ipython",
    "version": 3
   },
   "file_extension": ".py",
   "mimetype": "text/x-python",
   "name": "python",
   "nbconvert_exporter": "python",
   "pygments_lexer": "ipython3",
   "version": "3.7.11"
  }
 },
 "nbformat": 4,
 "nbformat_minor": 5
}
