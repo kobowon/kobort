{
 "cells": [
  {
   "cell_type": "code",
   "execution_count": 13,
   "id": "3de80545-8201-4594-820b-7bbd718401da",
   "metadata": {},
   "outputs": [
    {
     "name": "stderr",
     "output_type": "stream",
     "text": [
      "file /data/bowon_ko/wordpiece/version_1.9/config.json not found\n"
     ]
    }
   ],
   "source": [
    "from transformers import BertTokenizer\n",
    "tokenizer = BertTokenizer.from_pretrained('/data/bowon_ko/wordpiece/version_1.9',\n",
    "                                              do_lower_case=False,\n",
    "                                              unk_token='<unk>',\n",
    "                                              sep_token='</s>',\n",
    "                                              pad_token='<pad>',\n",
    "                                              cls_token='<s>',\n",
    "                                              mask_token='<mask>',\n",
    "                                             )"
   ]
  },
  {
   "cell_type": "code",
   "execution_count": 14,
   "id": "c5fba90c-1ca9-4314-a92e-19553576e342",
   "metadata": {},
   "outputs": [
    {
     "data": {
      "text/plain": [
       "[3, 2557, 2288, 3879, 1309]"
      ]
     },
     "execution_count": 14,
     "metadata": {},
     "output_type": "execute_result"
    }
   ],
   "source": [
    "tokens = ['뗇는', '밥', '먹', '었', '다']\n",
    "tokenizer.convert_tokens_to_ids(tokens)"
   ]
  },
  {
   "cell_type": "code",
   "execution_count": null,
   "id": "32e8ca3e-02a0-4348-80e0-799069bcde6e",
   "metadata": {},
   "outputs": [],
   "source": []
  }
 ],
 "metadata": {
  "kernelspec": {
   "display_name": "Python 3 (ipykernel)",
   "language": "python",
   "name": "python3"
  },
  "language_info": {
   "codemirror_mode": {
    "name": "ipython",
    "version": 3
   },
   "file_extension": ".py",
   "mimetype": "text/x-python",
   "name": "python",
   "nbconvert_exporter": "python",
   "pygments_lexer": "ipython3",
   "version": "3.7.11"
  }
 },
 "nbformat": 4,
 "nbformat_minor": 5
}
