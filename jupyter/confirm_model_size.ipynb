{
 "cells": [
  {
   "cell_type": "code",
   "execution_count": 1,
   "id": "0c655e27-02ef-477c-87fa-5fdb914e7ca1",
   "metadata": {},
   "outputs": [
    {
     "ename": "NameError",
     "evalue": "name 'model' is not defined",
     "output_type": "error",
     "traceback": [
      "\u001b[0;31m---------------------------------------------------------------------------\u001b[0m",
      "\u001b[0;31mNameError\u001b[0m                                 Traceback (most recent call last)",
      "\u001b[0;32m/tmp/ipykernel_93109/395012879.py\u001b[0m in \u001b[0;36m<module>\u001b[0;34m\u001b[0m\n\u001b[1;32m      4\u001b[0m     \u001b[0mos\u001b[0m\u001b[0;34m.\u001b[0m\u001b[0mremove\u001b[0m\u001b[0;34m(\u001b[0m\u001b[0;34m'temp.p'\u001b[0m\u001b[0;34m)\u001b[0m\u001b[0;34m\u001b[0m\u001b[0;34m\u001b[0m\u001b[0m\n\u001b[1;32m      5\u001b[0m \u001b[0;34m\u001b[0m\u001b[0m\n\u001b[0;32m----> 6\u001b[0;31m \u001b[0mprint_size_of_model\u001b[0m\u001b[0;34m(\u001b[0m\u001b[0mmodel\u001b[0m\u001b[0;34m)\u001b[0m\u001b[0;34m\u001b[0m\u001b[0;34m\u001b[0m\u001b[0m\n\u001b[0m",
      "\u001b[0;31mNameError\u001b[0m: name 'model' is not defined"
     ]
    }
   ],
   "source": [
    "def print_size_of_model(model):\n",
    "    torch.save(model.state_dict(), \"temp.p\")\n",
    "    print('Size (MB):', os.path.getsize(\"temp.p\")/1e6)\n",
    "    os.remove('temp.p')"
   ]
  },
  {
   "cell_type": "code",
   "execution_count": 11,
   "id": "d709da30-490e-47f2-ba84-6de83bf99de8",
   "metadata": {},
   "outputs": [],
   "source": [
    "from transformers import RobertaForMaskedLM,BertForMaskedLM\n",
    "entity_label_list = ['O', \n",
    "     'B-DUR', 'I-DUR', \n",
    "     'B-DAT', 'I-DAT', \n",
    "     'B-LOC', 'I-LOC', \n",
    "     'B-MNY', 'I-MNY', \n",
    "     'B-TIM', 'I-TIM', \n",
    "     'B-ORG', 'I-ORG', \n",
    "     'B-PNT', 'I-PNT', \n",
    "     'B-POH', 'I-POH', \n",
    "     'B-NOH', 'I-NOH', \n",
    "     'B-PER', 'I-PER']\n",
    "    \n",
    "model = RobertaForMaskedLM.from_pretrained(\n",
    "        '/data/bowon_ko/TRoBERTa_BASE/210727/pretrain/checkpoint-2000000',\n",
    "        num_labels=len(entity_label_list),\n",
    "        id2label = {str(i): label for i,label in enumerate(entity_label_list)},\n",
    "        label2id = {label: i for i, label in enumerate(entity_label_list)}\n",
    "    )\n",
    "model2 = BertForMaskedLM.from_pretrained(\n",
    "        '/data/bowon_ko/TRoBERTa_BASE/211130/pretrain/checkpoint-2000000',\n",
    "        num_labels=len(entity_label_list),\n",
    "        id2label = {str(i): label for i,label in enumerate(entity_label_list)},\n",
    "        label2id = {label: i for i, label in enumerate(entity_label_list)}\n",
    "    )"
   ]
  },
  {
   "cell_type": "code",
   "execution_count": 12,
   "id": "406b67d6-c621-4ec8-821b-f0637bfceddb",
   "metadata": {},
   "outputs": [
    {
     "name": "stdout",
     "output_type": "stream",
     "text": [
      "Size (MB): 498.062866\n",
      "Size (MB): 498.058834\n"
     ]
    }
   ],
   "source": [
    "import torch\n",
    "import os\n",
    "print_size_of_model(model)\n",
    "print_size_of_model(model2)\n"
   ]
  },
  {
   "cell_type": "code",
   "execution_count": null,
   "id": "ab1744b2-c20f-426b-8b5a-1a8caaa6f40d",
   "metadata": {},
   "outputs": [],
   "source": []
  }
 ],
 "metadata": {
  "kernelspec": {
   "display_name": "Python 3 (ipykernel)",
   "language": "python",
   "name": "python3"
  },
  "language_info": {
   "codemirror_mode": {
    "name": "ipython",
    "version": 3
   },
   "file_extension": ".py",
   "mimetype": "text/x-python",
   "name": "python",
   "nbconvert_exporter": "python",
   "pygments_lexer": "ipython3",
   "version": "3.7.11"
  }
 },
 "nbformat": 4,
 "nbformat_minor": 5
}
