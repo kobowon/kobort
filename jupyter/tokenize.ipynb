{
 "cells": [
  {
   "cell_type": "code",
   "execution_count": 1,
   "id": "eb342377-1a90-4e6d-9ce4-9058d5a2b795",
   "metadata": {},
   "outputs": [],
   "source": [
    "from transformers import BertTokenizer,AlbertTokenizer\n",
    "from konlpy.tag import Mecab\n",
    "\n",
    "wordpiece_info = {\"vocab_path\" : \"tokenizer/model/wordpiece/version_1.4\"}\n",
    "\n",
    "wordpiece_mecab_info = {\"vocab_path\" : \"tokenizer/model/wordpiece_mecab/version_1.9\"}\n",
    "\n",
    "sentencepiece_mecab_info = {\"vocab_path\" : \"tokenizer/model/sentencepiece_mecab/version_0.1/version_0.1.model\"}\n",
    "\n",
    "# def load_tokenizer(model_name=\"wp-mecab\"):\n",
    "    \n",
    "\n",
    "\n",
    "def make_tokens(text, model_name=\"wp-mecab\"):\n",
    "    if model_name == \"sp-mecab\":\n",
    "        tokenizer_path = sentencepiece_mecab_info[\"vocab_path\"]\n",
    "        tokenizer = AlbertTokenizer.from_pretrained(tokenizer_path,\n",
    "                                                do_lower_case=False,\n",
    "                                                unk_token='<unk>',\n",
    "                                                sep_token='</s>',\n",
    "                                                pad_token='<pad>',\n",
    "                                                cls_token='<s>',\n",
    "                                                mask_token='<mask>',\n",
    "                                                use_fast=True)\n",
    "    elif \"wp\" in model_name:\n",
    "        if model_name == \"wp-mecab\":\n",
    "            tokenizer_path = wordpiece_mecab_info[\"vocab_path\"]\n",
    "        elif model_name == \"wp\":\n",
    "            tokenizer_path = wordpiece_info[\"vocab_path\"]\n",
    "        tokenizer = BertTokenizer.from_pretrained(tokenizer_path, \n",
    "                                              do_lower_case=False,\n",
    "                                              unk_token='<unk>',\n",
    "                                              sep_token='</s>',\n",
    "                                              pad_token='<pad>',\n",
    "                                              cls_token='<s>',\n",
    "                                              mask_token='<mask>',\n",
    "                                              use_fast=True)\n",
    "    \n",
    "    if \"mecab\" in model_name or model_name==\"mecab\":\n",
    "        mecab = Mecab()\n",
    "        #text를 형태소로 분절 및 결합\n",
    "        morphs = mecab.morphs(text)\n",
    "        text = \" \".join(morphs)\n",
    "        if model_name == \"mecab\":\n",
    "            return text\n",
    "        \n",
    "    #텍스트를 토크나이즈\n",
    "    tokens = tokenizer.encode(text)\n",
    "    \n",
    "    return tokens\n",
    "    "
   ]
  },
  {
   "cell_type": "code",
   "execution_count": 3,
   "id": "b6f3cc3a-231c-4bd4-b342-f71f461c84b0",
   "metadata": {},
   "outputs": [],
   "source": [
    "tokenizer_path = wordpiece_mecab_info[\"vocab_path\"]\n",
    "tokenizer = BertTokenizer.from_pretrained(tokenizer_path, \n",
    "                                              do_lower_case=False,\n",
    "                                              unk_token='<unk>',\n",
    "                                              sep_token='</s>',\n",
    "                                              pad_token='<pad>',\n",
    "                                              cls_token='<s>',\n",
    "                                              mask_token='<mask>',\n",
    "                                              use_fast=True)"
   ]
  },
  {
   "cell_type": "code",
   "execution_count": 11,
   "id": "4bd0da1f-f53c-45bc-8cdc-e6e67c61bc56",
   "metadata": {},
   "outputs": [],
   "source": [
    "output = tokenizer.encode(\"나는 >> 고보원이다\")"
   ]
  },
  {
   "cell_type": "code",
   "execution_count": 12,
   "id": "16a2cc2a-96fd-4d11-a5ef-3e837388f1bc",
   "metadata": {},
   "outputs": [
    {
     "data": {
      "text/plain": [
       "'<s> 나는 <unk> <unk> 고보원이다 </s>'"
      ]
     },
     "execution_count": 12,
     "metadata": {},
     "output_type": "execute_result"
    }
   ],
   "source": [
    "tokenizer.decode(output)"
   ]
  },
  {
   "cell_type": "code",
   "execution_count": null,
   "id": "dcc4cd85-08c6-4f48-b335-9ac519f051f3",
   "metadata": {},
   "outputs": [],
   "source": []
  }
 ],
 "metadata": {
  "kernelspec": {
   "display_name": "Python 3 (ipykernel)",
   "language": "python",
   "name": "python3"
  },
  "language_info": {
   "codemirror_mode": {
    "name": "ipython",
    "version": 3
   },
   "file_extension": ".py",
   "mimetype": "text/x-python",
   "name": "python",
   "nbconvert_exporter": "python",
   "pygments_lexer": "ipython3",
   "version": "3.7.11"
  }
 },
 "nbformat": 4,
 "nbformat_minor": 5
}
