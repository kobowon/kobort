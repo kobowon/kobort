{
 "cells": [
  {
   "cell_type": "code",
   "execution_count": 1,
   "id": "8415ca06-8410-47f0-9cfd-b85169849330",
   "metadata": {},
   "outputs": [],
   "source": [
    "from tokenizer import KobortTokenizer"
   ]
  },
  {
   "cell_type": "code",
   "execution_count": 2,
   "id": "2ffef8e7-74ea-4b90-b3c8-fd9bb478a654",
   "metadata": {},
   "outputs": [
    {
     "name": "stderr",
     "output_type": "stream",
     "text": [
      "file tokenizer/model/wordpiece/version_2.4.1/config.json not found\n"
     ]
    }
   ],
   "source": [
    "tokenizer = KobortTokenizer('wp')"
   ]
  },
  {
   "cell_type": "code",
   "execution_count": 3,
   "id": "9d304b5e-8622-4908-b3b0-959eb89562b5",
   "metadata": {},
   "outputs": [
    {
     "data": {
      "text/plain": [
       "['시',\n",
       " '도',\n",
       " '##지',\n",
       " '##부장',\n",
       " '##도',\n",
       " '현재',\n",
       " '##는',\n",
       " '초',\n",
       " '재',\n",
       " '##선',\n",
       " '##의원',\n",
       " '##이',\n",
       " '많지만',\n",
       " '이번',\n",
       " '##엔',\n",
       " '3',\n",
       " '##선',\n",
       " '##급',\n",
       " '이상',\n",
       " '##으로']"
      ]
     },
     "execution_count": 3,
     "metadata": {},
     "output_type": "execute_result"
    }
   ],
   "source": [
    "tokenizer.tokenize('시 도지부장도 현재는 초 재선의원이 많지만 이번엔 3선급 이상으로')[1]"
   ]
  },
  {
   "cell_type": "code",
   "execution_count": null,
   "id": "f8318df1-2121-42a7-ae11-c02321d0b0fb",
   "metadata": {},
   "outputs": [],
   "source": []
  }
 ],
 "metadata": {
  "kernelspec": {
   "display_name": "Python 3 (ipykernel)",
   "language": "python",
   "name": "python3"
  },
  "language_info": {
   "codemirror_mode": {
    "name": "ipython",
    "version": 3
   },
   "file_extension": ".py",
   "mimetype": "text/x-python",
   "name": "python",
   "nbconvert_exporter": "python",
   "pygments_lexer": "ipython3",
   "version": "3.7.11"
  }
 },
 "nbformat": 4,
 "nbformat_minor": 5
}
